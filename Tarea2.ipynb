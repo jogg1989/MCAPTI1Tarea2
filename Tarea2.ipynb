{
  "cells": [
    {
      "cell_type": "markdown",
      "metadata": {
        "colab_type": "text",
        "id": "view-in-github"
      },
      "source": [
        "<a href=\"https://colab.research.google.com/github/jogg1989/MCAPTI1Tarea2/blob/main/Tarea2.ipynb\" target=\"_parent\"><img src=\"https://colab.research.google.com/assets/colab-badge.svg\" alt=\"Open In Colab\"/></a>"
      ]
    },
    {
      "cell_type": "markdown",
      "metadata": {
        "id": "YLh_L-cJdbC1"
      },
      "source": [
        "# Practica 2\n",
        "\n",
        "**Nombre:** Jorge Osvaldo Gonzalez Gonzalez  \n",
        "**e-mail:** jorge.gonzalez@alumnos.udg.mx"
      ]
    },
    {
      "cell_type": "markdown",
      "metadata": {
        "id": "SKjqoYRldhjH"
      },
      "source": [
        "### MODULES"
      ]
    },
    {
      "cell_type": "code",
      "execution_count": 46,
      "metadata": {
        "id": "FivXcw9IdTNf"
      },
      "outputs": [],
      "source": [
        "import math\n",
        "import numpy as np\n",
        "import pandas as pd\n",
        "\n",
        "import plotly.graph_objects as go\n",
        "\n",
        "from scipy.stats import wrapcauchy\n",
        "from scipy.stats import levy_stable\n",
        "\n",
        "from scipy.spatial import distance"
      ]
    },
    {
      "cell_type": "markdown",
      "metadata": {
        "id": "eE1eZ25Sdo7w"
      },
      "source": [
        "### CLASES"
      ]
    },
    {
      "cell_type": "code",
      "execution_count": 47,
      "metadata": {
        "id": "SeCA7kjbdTH6"
      },
      "outputs": [],
      "source": [
        "################# http://www.pygame.org/wiki/2DVectorClass ##################\n",
        "class Vec2d(object):\n",
        "    \"\"\"2d vector class, supports vector and scalar operators,\n",
        "       and also provides a bunch of high level functions\n",
        "       \"\"\"\n",
        "    __slots__ = ['x', 'y']\n",
        "\n",
        "    def __init__(self, x_or_pair, y = None):\n",
        "        if y == None:            \n",
        "            self.x = x_or_pair[0]\n",
        "            self.y = x_or_pair[1]\n",
        "        else:\n",
        "            self.x = x_or_pair\n",
        "            self.y = y\n",
        "            \n",
        "    # Addition\n",
        "    def __add__(self, other):\n",
        "        if isinstance(other, Vec2d):\n",
        "            return Vec2d(self.x + other.x, self.y + other.y)\n",
        "        elif hasattr(other, \"__getitem__\"):\n",
        "            return Vec2d(self.x + other[0], self.y + other[1])\n",
        "        else:\n",
        "            return Vec2d(self.x + other, self.y + other)\n",
        "\n",
        "    # Subtraction\n",
        "    def __sub__(self, other):\n",
        "        if isinstance(other, Vec2d):\n",
        "            return Vec2d(self.x - other.x, self.y - other.y)\n",
        "        elif (hasattr(other, \"__getitem__\")):\n",
        "            return Vec2d(self.x - other[0], self.y - other[1])\n",
        "        else:\n",
        "            return Vec2d(self.x - other, self.y - other)\n",
        "    \n",
        "    # Vector length\n",
        "    def get_length(self):\n",
        "        return math.sqrt(self.x**2 + self.y**2)\n",
        "    \n",
        "    # rotate vector\n",
        "    def rotated(self, angle):        \n",
        "        cos = math.cos(angle)\n",
        "        sin = math.sin(angle)\n",
        "        x = self.x*cos - self.y*sin\n",
        "        y = self.x*sin + self.y*cos\n",
        "        return Vec2d(x, y)"
      ]
    },
    {
      "cell_type": "markdown",
      "metadata": {
        "id": "u1IEMZC6d6mY"
      },
      "source": [
        "### FUNCTIONS"
      ]
    },
    {
      "cell_type": "code",
      "execution_count": 48,
      "metadata": {
        "id": "sODeb4Hhd1MA"
      },
      "outputs": [],
      "source": [
        "###############################################################################################\n",
        "# Turning angle\n",
        "###############################################################################################\n",
        "def turning_angle(vec_a, vec_b, vec_c):\n",
        "    \"\"\"\n",
        "    Arguments:\n",
        "        vec_a: First detection coordinates\n",
        "        vec_b: Second detection coordinates\n",
        "        vec_c: Third detection coordinates\n",
        "    Returns:\n",
        "        theta: Turning angle \n",
        "    \"\"\"\n",
        "    ab = vec_b-vec_a\n",
        "    norm_ab = np.linalg.norm(ab)\n",
        "    \n",
        "    bc = vec_c-vec_b\n",
        "    norm_bc = np.linalg.norm(bc)\n",
        "\n",
        "    dot_p = np.dot(ab, bc)\n",
        "    \n",
        "    cross_p = np.cross(ab, bc)\n",
        "    orient = np.sign(cross_p)\n",
        "    if orient == 0:\n",
        "        orient = 1\n",
        "    \n",
        "    cos_theta = dot_p/(norm_ab*norm_bc+np.finfo(float).eps)\n",
        "    theta = np.arccos(np.around(cos_theta,4)) * orient\n",
        "    return theta"
      ]
    },
    {
      "cell_type": "markdown",
      "metadata": {
        "id": "5HgeaLYeeAsc"
      },
      "source": [
        "## Actividad 1: Path Length - (BM1 vs BM2 vs CRW)\n",
        "\n",
        "* Cargar trayectorias en **Pandas** Data Frame\n",
        "* Calcular métrica utilizando exclusivamente funciones de NumPy\n",
        "* Guardar métricas en **Pandas** Data Frame\n",
        "* Visualizar con **plotly**"
      ]
    },
    {
      "cell_type": "code",
      "execution_count": 49,
      "metadata": {
        "id": "4lHKpDjYd_8Y"
      },
      "outputs": [],
      "source": [
        "# Load existing trajectories\n",
        "# BM speed = 3\n",
        "BM_2d_df_3 = pd.read_csv('trajectories/brownian_3.csv')\n",
        "\n",
        "# Load existing trajectories\n",
        "# BM speed = 6\n",
        "BM_2d_df_6 = pd.read_csv('trajectories/brownian_6.csv')\n",
        "\n",
        "# Load existing trajectories\n",
        "CRW_2d_df_9 = pd.read_csv('trajectories/crw_6_9.csv') "
      ]
    },
    {
      "cell_type": "code",
      "execution_count": 57,
      "metadata": {
        "id": "NBaMkcpGecWq"
      },
      "outputs": [
        {
          "name": "stdout",
          "output_type": "stream",
          "text": [
            "        dis\n",
            "0       0.0\n",
            "1       3.0\n",
            "2       6.0\n",
            "3       9.0\n",
            "4      12.0\n",
            "..      ...\n",
            "995  2985.0\n",
            "996  2988.0\n",
            "997  2991.0\n",
            "998  2994.0\n",
            "999  2997.0\n",
            "\n",
            "[1000 rows x 1 columns]\n"
          ]
        }
      ],
      "source": [
        "# Compute path length\n",
        "## start - Add your code here\n",
        "dis_bm2_s3 = pd.DataFrame([{\"dis\": 0}])\n",
        "\n",
        "for i in range(1, BM_2d_df_3.shape[0]):\n",
        "    pointA = np.array((BM_2d_df_3.iloc[i-1].x_pos, BM_2d_df_3.iloc[i-1].y_pos)) \n",
        "    pointB = np.array((BM_2d_df_3.iloc[i].x_pos, BM_2d_df_3.iloc[i].y_pos))\n",
        "    dis = round(np.sqrt(np.sum(np.square(pointA - pointB))), 3)\n",
        "    dis_bm2_s3 = pd.concat([dis_bm2_s3, pd.DataFrame([{\"dis\": dis_bm2_s3.iloc[i-1].dis + dis}])], ignore_index=True)\n",
        "\n",
        "## end - Add your code here\n"
      ]
    },
    {
      "cell_type": "code",
      "execution_count": 60,
      "metadata": {
        "id": "8phlD7bhep1G"
      },
      "outputs": [
        {
          "ename": "ValueError",
          "evalue": "Mime type rendering requires nbformat>=4.2.0 but it is not installed",
          "output_type": "error",
          "traceback": [
            "\u001b[0;31m---------------------------------------------------------------------------\u001b[0m",
            "\u001b[0;31mValueError\u001b[0m                                Traceback (most recent call last)",
            "\u001b[1;32m/mnt/c/Users/Jorge/MCAPTI1Tarea2/Tarea2.ipynb Cell 12'\u001b[0m in \u001b[0;36m<cell line: 30>\u001b[0;34m()\u001b[0m\n\u001b[1;32m      <a href='vscode-notebook-cell://wsl%2Bubuntu/mnt/c/Users/Jorge/MCAPTI1Tarea2/Tarea2.ipynb#ch0000011vscode-remote?line=6'>7</a>\u001b[0m fig_path_length\u001b[39m.\u001b[39madd_trace(\n\u001b[1;32m      <a href='vscode-notebook-cell://wsl%2Bubuntu/mnt/c/Users/Jorge/MCAPTI1Tarea2/Tarea2.ipynb#ch0000011vscode-remote?line=7'>8</a>\u001b[0m         go\u001b[39m.\u001b[39mScatter(\n\u001b[1;32m      <a href='vscode-notebook-cell://wsl%2Bubuntu/mnt/c/Users/Jorge/MCAPTI1Tarea2/Tarea2.ipynb#ch0000011vscode-remote?line=8'>9</a>\u001b[0m             x \u001b[39m=\u001b[39m np\u001b[39m.\u001b[39marange(\u001b[39mlen\u001b[39m(dis_bm2_s3)),\n\u001b[0;32m   (...)\u001b[0m\n\u001b[1;32m     <a href='vscode-notebook-cell://wsl%2Bubuntu/mnt/c/Users/Jorge/MCAPTI1Tarea2/Tarea2.ipynb#ch0000011vscode-remote?line=12'>13</a>\u001b[0m         )\n\u001b[1;32m     <a href='vscode-notebook-cell://wsl%2Bubuntu/mnt/c/Users/Jorge/MCAPTI1Tarea2/Tarea2.ipynb#ch0000011vscode-remote?line=13'>14</a>\u001b[0m     )\n\u001b[1;32m     <a href='vscode-notebook-cell://wsl%2Bubuntu/mnt/c/Users/Jorge/MCAPTI1Tarea2/Tarea2.ipynb#ch0000011vscode-remote?line=14'>15</a>\u001b[0m \u001b[39m## end - Add your code here\u001b[39;00m\n\u001b[1;32m     <a href='vscode-notebook-cell://wsl%2Bubuntu/mnt/c/Users/Jorge/MCAPTI1Tarea2/Tarea2.ipynb#ch0000011vscode-remote?line=15'>16</a>\u001b[0m \n\u001b[1;32m     <a href='vscode-notebook-cell://wsl%2Bubuntu/mnt/c/Users/Jorge/MCAPTI1Tarea2/Tarea2.ipynb#ch0000011vscode-remote?line=16'>17</a>\u001b[0m \n\u001b[0;32m   (...)\u001b[0m\n\u001b[1;32m     <a href='vscode-notebook-cell://wsl%2Bubuntu/mnt/c/Users/Jorge/MCAPTI1Tarea2/Tarea2.ipynb#ch0000011vscode-remote?line=25'>26</a>\u001b[0m     \n\u001b[1;32m     <a href='vscode-notebook-cell://wsl%2Bubuntu/mnt/c/Users/Jorge/MCAPTI1Tarea2/Tarea2.ipynb#ch0000011vscode-remote?line=26'>27</a>\u001b[0m \u001b[39m## end - Add your code here\u001b[39;00m\n\u001b[0;32m---> <a href='vscode-notebook-cell://wsl%2Bubuntu/mnt/c/Users/Jorge/MCAPTI1Tarea2/Tarea2.ipynb#ch0000011vscode-remote?line=29'>30</a>\u001b[0m fig_path_length\u001b[39m.\u001b[39;49mshow()\n",
            "File \u001b[0;32m~/.local/lib/python3.8/site-packages/plotly/basedatatypes.py:3398\u001b[0m, in \u001b[0;36mBaseFigure.show\u001b[0;34m(self, *args, **kwargs)\u001b[0m\n\u001b[1;32m   <a href='file:///home/jorge/.local/lib/python3.8/site-packages/plotly/basedatatypes.py?line=3364'>3365</a>\u001b[0m \u001b[39m\"\"\"\u001b[39;00m\n\u001b[1;32m   <a href='file:///home/jorge/.local/lib/python3.8/site-packages/plotly/basedatatypes.py?line=3365'>3366</a>\u001b[0m \u001b[39mShow a figure using either the default renderer(s) or the renderer(s)\u001b[39;00m\n\u001b[1;32m   <a href='file:///home/jorge/.local/lib/python3.8/site-packages/plotly/basedatatypes.py?line=3366'>3367</a>\u001b[0m \u001b[39mspecified by the renderer argument\u001b[39;00m\n\u001b[0;32m   (...)\u001b[0m\n\u001b[1;32m   <a href='file:///home/jorge/.local/lib/python3.8/site-packages/plotly/basedatatypes.py?line=3393'>3394</a>\u001b[0m \u001b[39mNone\u001b[39;00m\n\u001b[1;32m   <a href='file:///home/jorge/.local/lib/python3.8/site-packages/plotly/basedatatypes.py?line=3394'>3395</a>\u001b[0m \u001b[39m\"\"\"\u001b[39;00m\n\u001b[1;32m   <a href='file:///home/jorge/.local/lib/python3.8/site-packages/plotly/basedatatypes.py?line=3395'>3396</a>\u001b[0m \u001b[39mimport\u001b[39;00m \u001b[39mplotly\u001b[39;00m\u001b[39m.\u001b[39;00m\u001b[39mio\u001b[39;00m \u001b[39mas\u001b[39;00m \u001b[39mpio\u001b[39;00m\n\u001b[0;32m-> <a href='file:///home/jorge/.local/lib/python3.8/site-packages/plotly/basedatatypes.py?line=3397'>3398</a>\u001b[0m \u001b[39mreturn\u001b[39;00m pio\u001b[39m.\u001b[39;49mshow(\u001b[39mself\u001b[39;49m, \u001b[39m*\u001b[39;49margs, \u001b[39m*\u001b[39;49m\u001b[39m*\u001b[39;49mkwargs)\n",
            "File \u001b[0;32m~/.local/lib/python3.8/site-packages/plotly/io/_renderers.py:397\u001b[0m, in \u001b[0;36mshow\u001b[0;34m(fig, renderer, validate, **kwargs)\u001b[0m\n\u001b[1;32m    <a href='file:///home/jorge/.local/lib/python3.8/site-packages/plotly/io/_renderers.py?line=391'>392</a>\u001b[0m         \u001b[39mraise\u001b[39;00m \u001b[39mValueError\u001b[39;00m(\n\u001b[1;32m    <a href='file:///home/jorge/.local/lib/python3.8/site-packages/plotly/io/_renderers.py?line=392'>393</a>\u001b[0m             \u001b[39m\"\u001b[39m\u001b[39mMime type rendering requires ipython but it is not installed\u001b[39m\u001b[39m\"\u001b[39m\n\u001b[1;32m    <a href='file:///home/jorge/.local/lib/python3.8/site-packages/plotly/io/_renderers.py?line=393'>394</a>\u001b[0m         )\n\u001b[1;32m    <a href='file:///home/jorge/.local/lib/python3.8/site-packages/plotly/io/_renderers.py?line=395'>396</a>\u001b[0m     \u001b[39mif\u001b[39;00m \u001b[39mnot\u001b[39;00m nbformat \u001b[39mor\u001b[39;00m LooseVersion(nbformat\u001b[39m.\u001b[39m__version__) \u001b[39m<\u001b[39m LooseVersion(\u001b[39m\"\u001b[39m\u001b[39m4.2.0\u001b[39m\u001b[39m\"\u001b[39m):\n\u001b[0;32m--> <a href='file:///home/jorge/.local/lib/python3.8/site-packages/plotly/io/_renderers.py?line=396'>397</a>\u001b[0m         \u001b[39mraise\u001b[39;00m \u001b[39mValueError\u001b[39;00m(\n\u001b[1;32m    <a href='file:///home/jorge/.local/lib/python3.8/site-packages/plotly/io/_renderers.py?line=397'>398</a>\u001b[0m             \u001b[39m\"\u001b[39m\u001b[39mMime type rendering requires nbformat>=4.2.0 but it is not installed\u001b[39m\u001b[39m\"\u001b[39m\n\u001b[1;32m    <a href='file:///home/jorge/.local/lib/python3.8/site-packages/plotly/io/_renderers.py?line=398'>399</a>\u001b[0m         )\n\u001b[1;32m    <a href='file:///home/jorge/.local/lib/python3.8/site-packages/plotly/io/_renderers.py?line=400'>401</a>\u001b[0m     ipython_display\u001b[39m.\u001b[39mdisplay(bundle, raw\u001b[39m=\u001b[39m\u001b[39mTrue\u001b[39;00m)\n\u001b[1;32m    <a href='file:///home/jorge/.local/lib/python3.8/site-packages/plotly/io/_renderers.py?line=402'>403</a>\u001b[0m \u001b[39m# external renderers\u001b[39;00m\n",
            "\u001b[0;31mValueError\u001b[0m: Mime type rendering requires nbformat>=4.2.0 but it is not installed"
          ]
        }
      ],
      "source": [
        "# Plotting\n",
        "# Init figure\n",
        "fig_path_length = go.Figure()\n",
        "\n",
        "# First trace BM1\n",
        "## start - Add your code here\n",
        "fig_path_length.add_trace(\n",
        "        go.Scatter(\n",
        "            x = np.arange(len(dis_bm2_s3)),\n",
        "            y = dis_bm2_s3.dis,\n",
        "            line = dict(width=2),\n",
        "            mode = 'lines'\n",
        "        )\n",
        "    )\n",
        "## end - Add your code here\n",
        "\n",
        "\n",
        "# Second trace BM2\n",
        "## start - Add your code here\n",
        "    \n",
        "## end - Add your code here\n",
        "\n",
        "\n",
        "# Third trace CRW\n",
        "## start - Add your code here\n",
        "    \n",
        "## end - Add your code here\n",
        "\n",
        "\n",
        "fig_path_length.show()\n"
      ]
    },
    {
      "cell_type": "markdown",
      "metadata": {
        "id": "VQODs5GWexsM"
      },
      "source": [
        "## Actividad 2: Mean Squared Displacement - (Brownian vs CRW)\n",
        "\n",
        "* Cargar trayectorias en **Pandas** Data Frame\n",
        "* Guardar metricas en **Pandas** Data Frame\n",
        "* Visualizar con **plotly**"
      ]
    },
    {
      "cell_type": "code",
      "execution_count": null,
      "metadata": {
        "id": "k3MifcvXepo9"
      },
      "outputs": [],
      "source": [
        "# Load existing trajectories\n",
        "# BM speed = 6\n",
        "BM_2d_df_6 = pd.read_csv('trajectories/brownian_6.csv')\n",
        "\n",
        "# Load existing trajectories\n",
        "# CRW speed = 6, c = 0.9\n",
        "CRW_2d_df_9 = pd.read_csv('trajectories/crw_6_9.csv')"
      ]
    },
    {
      "cell_type": "code",
      "execution_count": null,
      "metadata": {
        "id": "fky1C1Rfe27k"
      },
      "outputs": [],
      "source": [
        "# Show trajectories\n",
        "# Init figure\n",
        "fig_3d = go.Figure()\n",
        "\n",
        "# Plot trajectory in 3-D space\n",
        "fig_3d.add_trace(\n",
        "    go.Scatter3d(x = BM_2d_df_6.x_pos,\n",
        "                 y = BM_2d_df_6.y_pos,\n",
        "                 z = BM_2d_df_6.index,\n",
        "                 marker = dict(size=2),\n",
        "                 line = dict(color='blue', width=2),\n",
        "                 mode = 'lines',\n",
        "                 name = 'BM 2d',\n",
        "                 showlegend = True))\n",
        "\n",
        "\n",
        "fig_3d.add_trace(\n",
        "    go.Scatter3d(x = CRW_2d_df_9.x_pos,\n",
        "                 y = CRW_2d_df_9.y_pos,\n",
        "                 z = CRW_2d_df_9.index,\n",
        "                 marker = dict(size=2),\n",
        "                 line = dict(color='red', width=2),\n",
        "                 mode = 'lines',\n",
        "                 name = 'CRW 2d',\n",
        "                 showlegend = True))\n",
        "\n",
        "fig_3d.show()"
      ]
    },
    {
      "cell_type": "code",
      "execution_count": null,
      "metadata": {
        "id": "Hv2I-Hp0fCHT"
      },
      "outputs": [],
      "source": [
        "# Empty MSD_BM\n",
        "MSD_BM = np.empty(shape=(0))\n",
        "\n",
        "# MSD for BM_2d_df_6\n",
        "for tau in range(1,BM_2d_df_6.shape[0]):\n",
        "    ## start - Add your code here\n",
        "    \n",
        "    ## end - Add your code here\n",
        "\n",
        "# Empty MSD_CRW\n",
        "MSD_CRW = np.empty(shape=(0))\n",
        "# MSD for CRW_2d_df_9\n",
        "for tau in range(1,CRW_2d_df_9.shape[0]):\n",
        "    ## start - Add your code here\n",
        "    \n",
        "    ## end - Add your code here\n",
        "    \n",
        "# Save metrics to Dataframe\n",
        "## start - Add your code here\n",
        "    \n",
        "## end - Add your code here\n",
        "\n",
        "# Write to csv\n",
        "## start - Add your code here\n",
        "    \n",
        "## end - Add your code here"
      ]
    },
    {
      "cell_type": "code",
      "execution_count": null,
      "metadata": {
        "id": "SRtG1mj_fMMS"
      },
      "outputs": [],
      "source": [
        "# Init figure\n",
        "fig_path_length = go.Figure()\n",
        "\n",
        "# first trace MSD_BM\n",
        "## start - Add your code here\n",
        "    \n",
        "## end - Add your code here\n",
        "\n",
        "\n",
        "# Second trace MSD_CRW\n",
        "## start - Add your code here\n",
        "    \n",
        "## end - Add your code here\n",
        "\n",
        "\n",
        "fig_path_length.show()"
      ]
    }
  ],
  "metadata": {
    "colab": {
      "authorship_tag": "ABX9TyO8EAma3c3Uc9h9TLmoZyFn",
      "collapsed_sections": [],
      "include_colab_link": true,
      "name": "Untitled1.ipynb",
      "provenance": []
    },
    "kernelspec": {
      "display_name": "Python 3",
      "name": "python3"
    },
    "language_info": {
      "codemirror_mode": {
        "name": "ipython",
        "version": 3
      },
      "file_extension": ".py",
      "mimetype": "text/x-python",
      "name": "python",
      "nbconvert_exporter": "python",
      "pygments_lexer": "ipython3",
      "version": "3.8.10"
    }
  },
  "nbformat": 4,
  "nbformat_minor": 0
}

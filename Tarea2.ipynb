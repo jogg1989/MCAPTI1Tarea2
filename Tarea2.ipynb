{
  "nbformat": 4,
  "nbformat_minor": 0,
  "metadata": {
    "colab": {
      "name": "Untitled1.ipynb",
      "provenance": [],
      "authorship_tag": "ABX9TyOT+Ov7jJLtAORhzd54yLgR",
      "include_colab_link": true
    },
    "kernelspec": {
      "name": "python3",
      "display_name": "Python 3"
    },
    "language_info": {
      "name": "python"
    }
  },
  "cells": [
    {
      "cell_type": "markdown",
      "metadata": {
        "id": "view-in-github",
        "colab_type": "text"
      },
      "source": [
        "<a href=\"https://colab.research.google.com/github/jogg1989/MCAPTI1Tarea2/blob/main/Tarea2.ipynb\" target=\"_parent\"><img src=\"https://colab.research.google.com/assets/colab-badge.svg\" alt=\"Open In Colab\"/></a>"
      ]
    },
    {
      "cell_type": "code",
      "execution_count": 1,
      "metadata": {
        "colab": {
          "base_uri": "https://localhost:8080/",
          "height": 133
        },
        "id": "OuNDh3p-cpsu",
        "outputId": "0c49e19e-6786-4a9d-dd23-a4e3385133d5"
      },
      "outputs": [
        {
          "output_type": "error",
          "ename": "SyntaxError",
          "evalue": "ignored",
          "traceback": [
            "\u001b[0;36m  File \u001b[0;32m\"<ipython-input-1-1c3a84238801>\"\u001b[0;36m, line \u001b[0;32m3\u001b[0m\n\u001b[0;31m    **Nombre:** Jorge Osvaldo Gonzalez Gonzalez\u001b[0m\n\u001b[0m     ^\u001b[0m\n\u001b[0;31mSyntaxError\u001b[0m\u001b[0;31m:\u001b[0m invalid syntax\n"
          ]
        }
      ],
      "source": [
        ""
      ]
    },
    {
      "cell_type": "markdown",
      "source": [
        "# Practica 2\n",
        "\n",
        "**Nombre:** Jorge Osvaldo Gonzalez Gonzalez  \n",
        "**e-mail:** jorge.gonzalez@alumnos.udg.mx"
      ],
      "metadata": {
        "id": "YLh_L-cJdbC1"
      }
    },
    {
      "cell_type": "markdown",
      "source": [
        "### MODULES"
      ],
      "metadata": {
        "id": "SKjqoYRldhjH"
      }
    },
    {
      "cell_type": "code",
      "source": [
        "import math\n",
        "import numpy as np\n",
        "import pandas as pd\n",
        "\n",
        "import plotly.graph_objects as go\n",
        "\n",
        "from scipy.stats import wrapcauchy\n",
        "from scipy.stats import levy_stable\n",
        "\n",
        "from scipy.spatial import distance"
      ],
      "metadata": {
        "id": "FivXcw9IdTNf"
      },
      "execution_count": 2,
      "outputs": []
    },
    {
      "cell_type": "markdown",
      "source": [
        "### CLASES"
      ],
      "metadata": {
        "id": "eE1eZ25Sdo7w"
      }
    },
    {
      "cell_type": "code",
      "source": [
        "################# http://www.pygame.org/wiki/2DVectorClass ##################\n",
        "class Vec2d(object):\n",
        "    \"\"\"2d vector class, supports vector and scalar operators,\n",
        "       and also provides a bunch of high level functions\n",
        "       \"\"\"\n",
        "    __slots__ = ['x', 'y']\n",
        "\n",
        "    def __init__(self, x_or_pair, y = None):\n",
        "        if y == None:            \n",
        "            self.x = x_or_pair[0]\n",
        "            self.y = x_or_pair[1]\n",
        "        else:\n",
        "            self.x = x_or_pair\n",
        "            self.y = y\n",
        "            \n",
        "    # Addition\n",
        "    def __add__(self, other):\n",
        "        if isinstance(other, Vec2d):\n",
        "            return Vec2d(self.x + other.x, self.y + other.y)\n",
        "        elif hasattr(other, \"__getitem__\"):\n",
        "            return Vec2d(self.x + other[0], self.y + other[1])\n",
        "        else:\n",
        "            return Vec2d(self.x + other, self.y + other)\n",
        "\n",
        "    # Subtraction\n",
        "    def __sub__(self, other):\n",
        "        if isinstance(other, Vec2d):\n",
        "            return Vec2d(self.x - other.x, self.y - other.y)\n",
        "        elif (hasattr(other, \"__getitem__\")):\n",
        "            return Vec2d(self.x - other[0], self.y - other[1])\n",
        "        else:\n",
        "            return Vec2d(self.x - other, self.y - other)\n",
        "    \n",
        "    # Vector length\n",
        "    def get_length(self):\n",
        "        return math.sqrt(self.x**2 + self.y**2)\n",
        "    \n",
        "    # rotate vector\n",
        "    def rotated(self, angle):        \n",
        "        cos = math.cos(angle)\n",
        "        sin = math.sin(angle)\n",
        "        x = self.x*cos - self.y*sin\n",
        "        y = self.x*sin + self.y*cos\n",
        "        return Vec2d(x, y)"
      ],
      "metadata": {
        "id": "SeCA7kjbdTH6"
      },
      "execution_count": 3,
      "outputs": []
    },
    {
      "cell_type": "markdown",
      "source": [
        "### FUNCTIONS"
      ],
      "metadata": {
        "id": "u1IEMZC6d6mY"
      }
    },
    {
      "cell_type": "code",
      "source": [
        "###############################################################################################\n",
        "# Turning angle\n",
        "###############################################################################################\n",
        "def turning_angle(vec_a, vec_b, vec_c):\n",
        "    \"\"\"\n",
        "    Arguments:\n",
        "        vec_a: First detection coordinates\n",
        "        vec_b: Second detection coordinates\n",
        "        vec_c: Third detection coordinates\n",
        "    Returns:\n",
        "        theta: Turning angle \n",
        "    \"\"\"\n",
        "    ab = vec_b-vec_a\n",
        "    norm_ab = np.linalg.norm(ab)\n",
        "    \n",
        "    bc = vec_c-vec_b\n",
        "    norm_bc = np.linalg.norm(bc)\n",
        "\n",
        "    dot_p = np.dot(ab, bc)\n",
        "    \n",
        "    cross_p = np.cross(ab, bc)\n",
        "    orient = np.sign(cross_p)\n",
        "    if orient == 0:\n",
        "        orient = 1\n",
        "    \n",
        "    cos_theta = dot_p/(norm_ab*norm_bc+np.finfo(float).eps)\n",
        "    theta = np.arccos(np.around(cos_theta,4)) * orient\n",
        "    return theta"
      ],
      "metadata": {
        "id": "sODeb4Hhd1MA"
      },
      "execution_count": 4,
      "outputs": []
    },
    {
      "cell_type": "markdown",
      "source": [
        "## Actividad 1: Path Length - (BM1 vs BM2 vs CRW)\n",
        "\n",
        "* Cargar trayectorias en **Pandas** Data Frame\n",
        "* Calcular métrica utilizando exclusivamente funciones de NumPy\n",
        "* Guardar métricas en **Pandas** Data Frame\n",
        "* Visualizar con **plotly**"
      ],
      "metadata": {
        "id": "5HgeaLYeeAsc"
      }
    },
    {
      "cell_type": "code",
      "source": [
        "# Load existing trajectories\n",
        "# BM speed = 3\n",
        "BM_2d_df_3 = pd.read_csv('trajectories/brownian_3.csv')\n",
        "\n",
        "# Load existing trajectories\n",
        "# BM speed = 6\n",
        "BM_2d_df_6 = pd.read_csv('trajectories/brownian_6.csv')\n",
        "\n",
        "# Load existing trajectories\n",
        "CRW_2d_df_9 = pd.read_csv('trajectories/crw_6_9.csv') "
      ],
      "metadata": {
        "id": "4lHKpDjYd_8Y"
      },
      "execution_count": null,
      "outputs": []
    },
    {
      "cell_type": "code",
      "source": [
        "# Compute path length\n",
        "## start - Add your code here\n",
        "    \n",
        "## end - Add your code here\n"
      ],
      "metadata": {
        "id": "NBaMkcpGecWq"
      },
      "execution_count": null,
      "outputs": []
    },
    {
      "cell_type": "code",
      "source": [
        "# Plotting\n",
        "# Init figure\n",
        "fig_path_length = go.Figure()\n",
        "\n",
        "# First trace BM1\n",
        "## start - Add your code here\n",
        "    \n",
        "## end - Add your code here\n",
        "\n",
        "\n",
        "# Second trace BM2\n",
        "## start - Add your code here\n",
        "    \n",
        "## end - Add your code here\n",
        "\n",
        "\n",
        "# Third trace CRW\n",
        "## start - Add your code here\n",
        "    \n",
        "## end - Add your code here\n",
        "\n",
        "\n",
        "fig_path_length.show()\n"
      ],
      "metadata": {
        "id": "8phlD7bhep1G"
      },
      "execution_count": null,
      "outputs": []
    },
    {
      "cell_type": "markdown",
      "source": [
        "## Actividad 2: Mean Squared Displacement - (Brownian vs CRW)\n",
        "\n",
        "* Cargar trayectorias en **Pandas** Data Frame\n",
        "* Guardar metricas en **Pandas** Data Frame\n",
        "* Visualizar con **plotly**"
      ],
      "metadata": {
        "id": "VQODs5GWexsM"
      }
    },
    {
      "cell_type": "code",
      "source": [
        "# Load existing trajectories\n",
        "# BM speed = 6\n",
        "BM_2d_df_6 = pd.read_csv('trajectories/brownian_6.csv')\n",
        "\n",
        "# Load existing trajectories\n",
        "# CRW speed = 6, c = 0.9\n",
        "CRW_2d_df_9 = pd.read_csv('trajectories/crw_6_9.csv')"
      ],
      "metadata": {
        "id": "k3MifcvXepo9"
      },
      "execution_count": null,
      "outputs": []
    },
    {
      "cell_type": "code",
      "source": [
        "# Show trajectories\n",
        "# Init figure\n",
        "fig_3d = go.Figure()\n",
        "\n",
        "# Plot trajectory in 3-D space\n",
        "fig_3d.add_trace(\n",
        "    go.Scatter3d(x = BM_2d_df_6.x_pos,\n",
        "                 y = BM_2d_df_6.y_pos,\n",
        "                 z = BM_2d_df_6.index,\n",
        "                 marker = dict(size=2),\n",
        "                 line = dict(color='blue', width=2),\n",
        "                 mode = 'lines',\n",
        "                 name = 'BM 2d',\n",
        "                 showlegend = True))\n",
        "\n",
        "\n",
        "fig_3d.add_trace(\n",
        "    go.Scatter3d(x = CRW_2d_df_9.x_pos,\n",
        "                 y = CRW_2d_df_9.y_pos,\n",
        "                 z = CRW_2d_df_9.index,\n",
        "                 marker = dict(size=2),\n",
        "                 line = dict(color='red', width=2),\n",
        "                 mode = 'lines',\n",
        "                 name = 'CRW 2d',\n",
        "                 showlegend = True))\n",
        "\n",
        "fig_3d.show()"
      ],
      "metadata": {
        "id": "fky1C1Rfe27k"
      },
      "execution_count": null,
      "outputs": []
    },
    {
      "cell_type": "code",
      "source": [
        "# Empty MSD_BM\n",
        "MSD_BM = np.empty(shape=(0))\n",
        "\n",
        "# MSD for BM_2d_df_6\n",
        "for tau in range(1,BM_2d_df_6.shape[0]):\n",
        "    ## start - Add your code here\n",
        "    \n",
        "    ## end - Add your code here\n",
        "\n",
        "# Empty MSD_CRW\n",
        "MSD_CRW = np.empty(shape=(0))\n",
        "# MSD for CRW_2d_df_9\n",
        "for tau in range(1,CRW_2d_df_9.shape[0]):\n",
        "    ## start - Add your code here\n",
        "    \n",
        "    ## end - Add your code here\n",
        "    \n",
        "# Save metrics to Dataframe\n",
        "## start - Add your code here\n",
        "    \n",
        "## end - Add your code here\n",
        "\n",
        "# Write to csv\n",
        "## start - Add your code here\n",
        "    \n",
        "## end - Add your code here"
      ],
      "metadata": {
        "id": "Hv2I-Hp0fCHT"
      },
      "execution_count": null,
      "outputs": []
    },
    {
      "cell_type": "code",
      "source": [
        "# Init figure\n",
        "fig_path_length = go.Figure()\n",
        "\n",
        "# first trace MSD_BM\n",
        "## start - Add your code here\n",
        "    \n",
        "## end - Add your code here\n",
        "\n",
        "\n",
        "# Second trace MSD_CRW\n",
        "## start - Add your code here\n",
        "    \n",
        "## end - Add your code here\n",
        "\n",
        "\n",
        "fig_path_length.show()"
      ],
      "metadata": {
        "id": "SRtG1mj_fMMS"
      },
      "execution_count": null,
      "outputs": []
    }
  ]
}